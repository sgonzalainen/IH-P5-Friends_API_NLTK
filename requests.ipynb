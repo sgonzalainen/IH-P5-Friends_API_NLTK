{
 "cells": [
  {
   "cell_type": "code",
   "execution_count": 169,
   "metadata": {},
   "outputs": [],
   "source": [
    "import requests"
   ]
  },
  {
   "cell_type": "markdown",
   "metadata": {},
   "source": [
    "<img src=\"./img/banner.png\" \n",
    "         alt=\"alternate text\" \n",
    "         width=700\n",
    "         align=\"center;\"/>\n",
    "    "
   ]
  },
  {
   "cell_type": "markdown",
   "metadata": {},
   "source": [
    "# Examples of requests"
   ]
  },
  {
   "cell_type": "markdown",
   "metadata": {},
   "source": [
    "## POST Methods"
   ]
  },
  {
   "cell_type": "markdown",
   "metadata": {},
   "source": [
    "### Create Scene"
   ]
  },
  {
   "cell_type": "markdown",
   "metadata": {},
   "source": [
    "**Success Test**"
   ]
  },
  {
   "cell_type": "code",
   "execution_count": 132,
   "metadata": {},
   "outputs": [
    {
     "data": {
      "text/plain": [
       "'New scene was succesfully created, with ObjectID = 5fc38cea9fb50af43a8313da'"
      ]
     },
     "execution_count": 132,
     "metadata": {},
     "output_type": "execute_result"
    }
   ],
   "source": [
    "endpoint = f'http://localhost:5000/newscene'\n",
    "params = {'season': 0, 'episode': 0, 'episode_name': 'I am a fake episode'}\n",
    "r = requests.post(endpoint, params = params)\n",
    "r.json()"
   ]
  },
  {
   "cell_type": "markdown",
   "metadata": {},
   "source": [
    "**Error Test**"
   ]
  },
  {
   "cell_type": "code",
   "execution_count": 133,
   "metadata": {},
   "outputs": [
    {
     "data": {
      "text/plain": [
       "'Error. Missing a required parameter. Please check API documentation.'"
      ]
     },
     "execution_count": 133,
     "metadata": {},
     "output_type": "execute_result"
    }
   ],
   "source": [
    "endpoint = f'http://localhost:5000/newscene'\n",
    "params = {'season': 0, 'episode_name': 'I am a fake episode'}\n",
    "r = requests.post(endpoint, params = params)\n",
    "r.json()"
   ]
  },
  {
   "cell_type": "markdown",
   "metadata": {},
   "source": [
    "### Add character to Scene"
   ]
  },
  {
   "cell_type": "markdown",
   "metadata": {},
   "source": [
    "**Success Test**"
   ]
  },
  {
   "cell_type": "code",
   "execution_count": 138,
   "metadata": {},
   "outputs": [
    {
     "data": {
      "text/plain": [
       "'Superman was succesfully inserted to scene with ObjectID = 5fc38cea9fb50af43a8313da'"
      ]
     },
     "execution_count": 138,
     "metadata": {},
     "output_type": "execute_result"
    }
   ],
   "source": [
    "endpoint = f'http://localhost:5000/addcharacter'\n",
    "params = {'id': '5fc38cea9fb50af43a8313da', 'character': 'Superman'}\n",
    "r = requests.post(endpoint, params = params)\n",
    "r.json()"
   ]
  },
  {
   "cell_type": "markdown",
   "metadata": {},
   "source": [
    "**Error Test**"
   ]
  },
  {
   "cell_type": "code",
   "execution_count": 143,
   "metadata": {},
   "outputs": [
    {
     "data": {
      "text/plain": [
       "'5fc3XXXXfb50af43a8313da is an invalid id'"
      ]
     },
     "execution_count": 143,
     "metadata": {},
     "output_type": "execute_result"
    }
   ],
   "source": [
    "endpoint = f'http://localhost:5000/addcharacter'\n",
    "params = {'id': '5fc3XXXXfb50af43a8313da', 'character': 'Superman'}\n",
    "r = requests.post(endpoint, params = params)\n",
    "r.json()"
   ]
  },
  {
   "cell_type": "code",
   "execution_count": 145,
   "metadata": {},
   "outputs": [
    {
     "data": {
      "text/plain": [
       "'Error. Missing a required parameter. Please check API documentation.'"
      ]
     },
     "execution_count": 145,
     "metadata": {},
     "output_type": "execute_result"
    }
   ],
   "source": [
    "endpoint = f'http://localhost:5000/addcharacter'\n",
    "params = {'id': '5fc3XXXXfb50af43a8313da'}\n",
    "r = requests.post(endpoint, params = params)\n",
    "r.json()"
   ]
  },
  {
   "cell_type": "markdown",
   "metadata": {},
   "source": [
    "**Warning Test**"
   ]
  },
  {
   "cell_type": "code",
   "execution_count": 151,
   "metadata": {},
   "outputs": [
    {
     "data": {
      "text/plain": [
       "'Superman is already as attendee in the scene with ObjectID = 5fc38cea9fb50af43a8313da'"
      ]
     },
     "execution_count": 151,
     "metadata": {},
     "output_type": "execute_result"
    }
   ],
   "source": [
    "endpoint = f'http://localhost:5000/addcharacter'\n",
    "params = {'id': '5fc38cea9fb50af43a8313da', 'character': 'Superman'}\n",
    "r = requests.post(endpoint, params = params)\n",
    "r.json()"
   ]
  },
  {
   "cell_type": "markdown",
   "metadata": {},
   "source": [
    "### Add Script Line to Scene"
   ]
  },
  {
   "cell_type": "markdown",
   "metadata": {},
   "source": [
    "**Success Test**"
   ]
  },
  {
   "cell_type": "code",
   "execution_count": 152,
   "metadata": {},
   "outputs": [
    {
     "data": {
      "text/plain": [
       "'Superman saying \"Ohh no, Kryptonite!\" was succesfully inserted to scene with ObjectID = 5fc38cea9fb50af43a8313da'"
      ]
     },
     "execution_count": 152,
     "metadata": {},
     "output_type": "execute_result"
    }
   ],
   "source": [
    "endpoint = f'http://localhost:5000/addline'\n",
    "params = {'id': '5fc38cea9fb50af43a8313da', 'character': 'Superman', 'line': 'Ohh no, Kryptonite!'}\n",
    "r = requests.post(endpoint, params = params)\n",
    "r.json()"
   ]
  },
  {
   "cell_type": "markdown",
   "metadata": {},
   "source": [
    "**Error Test**"
   ]
  },
  {
   "cell_type": "code",
   "execution_count": 154,
   "metadata": {},
   "outputs": [
    {
     "data": {
      "text/plain": [
       "'xxxxxxxx8313da is an invalid id'"
      ]
     },
     "execution_count": 154,
     "metadata": {},
     "output_type": "execute_result"
    }
   ],
   "source": [
    "endpoint = f'http://localhost:5000/addline'\n",
    "params = {'id': 'xxxxxxxx8313da', 'character': 'Superman', 'line': 'I won!'}\n",
    "r = requests.post(endpoint, params = params)\n",
    "r.json()"
   ]
  },
  {
   "cell_type": "code",
   "execution_count": 156,
   "metadata": {},
   "outputs": [
    {
     "data": {
      "text/plain": [
       "'Line of Mr.Robot saying \"Die!\" could not be inserted because Mr.Robot is not listed as attendee. Please ensure the character is as attendee first'"
      ]
     },
     "execution_count": 156,
     "metadata": {},
     "output_type": "execute_result"
    }
   ],
   "source": [
    "endpoint = f'http://localhost:5000/addline'\n",
    "params = {'id': '5fc38cea9fb50af43a8313da', 'character': 'Mr.Robot', 'line': 'Die!'}\n",
    "r = requests.post(endpoint, params = params)\n",
    "r.json()"
   ]
  },
  {
   "cell_type": "code",
   "execution_count": 157,
   "metadata": {},
   "outputs": [
    {
     "data": {
      "text/plain": [
       "'Error. Missing a required parameter. Please check API documentation.'"
      ]
     },
     "execution_count": 157,
     "metadata": {},
     "output_type": "execute_result"
    }
   ],
   "source": [
    "endpoint = f'http://localhost:5000/addline'\n",
    "params = {'id': '5fc38cea9fb50af43a8313da', 'character': 'Mr.Robot'}\n",
    "r = requests.post(endpoint, params = params)\n",
    "r.json()"
   ]
  },
  {
   "cell_type": "markdown",
   "metadata": {},
   "source": [
    "## GET Methods"
   ]
  },
  {
   "cell_type": "markdown",
   "metadata": {},
   "source": [
    "### List of Characters"
   ]
  },
  {
   "cell_type": "markdown",
   "metadata": {},
   "source": [
    "**Success Test**"
   ]
  },
  {
   "cell_type": "code",
   "execution_count": 70,
   "metadata": {},
   "outputs": [
    {
     "data": {
      "text/plain": [
       "['Actor',\n",
       " 'Adrienne',\n",
       " 'Alan',\n",
       " 'Alex',\n",
       " 'Alice',\n",
       " 'Alison',\n",
       " 'All',\n",
       " 'Allesandro',\n",
       " 'Amanda',\n",
       " 'Amber',\n",
       " 'Amger',\n",
       " 'Amy',\n",
       " 'Anchorwoman',\n",
       " 'Andrea',\n",
       " 'Angela',\n",
       " 'Annabelle',\n",
       " 'Announcer',\n",
       " 'Arthur',\n",
       " 'Ashley',\n",
       " 'Assistant',\n",
       " 'Attendant',\n",
       " 'Aurora',\n",
       " 'Ballerina',\n",
       " 'Bandleader',\n",
       " 'Barry',\n",
       " 'Ben',\n",
       " 'Benjamin',\n",
       " 'Bernice',\n",
       " 'Bill',\n",
       " 'Billy',\n",
       " 'Bitsy',\n",
       " 'Bob',\n",
       " 'Bobby',\n",
       " 'Bonnie',\n",
       " 'Boss',\n",
       " 'Both',\n",
       " 'Boy',\n",
       " 'Boys',\n",
       " 'Brenda',\n",
       " 'Burt',\n",
       " 'Cailin',\n",
       " 'Caitlin',\n",
       " 'Carl',\n",
       " 'Carol',\n",
       " 'Caroline',\n",
       " 'Casey',\n",
       " 'Cashier',\n",
       " 'Cassie',\n",
       " 'Catherine',\n",
       " 'Cecilia',\n",
       " 'Celia',\n",
       " 'Chandler',\n",
       " 'Charlie',\n",
       " 'Cheryl',\n",
       " 'Chip',\n",
       " 'Chloe',\n",
       " 'Claudia',\n",
       " 'Clerk',\n",
       " 'Cliff',\n",
       " 'Clown',\n",
       " 'Colleen',\n",
       " 'Commercial',\n",
       " 'Conan',\n",
       " 'Cookie',\n",
       " 'Cop',\n",
       " 'Courtney',\n",
       " 'Cowgirl',\n",
       " 'Croupler',\n",
       " 'Customer',\n",
       " 'Customers',\n",
       " 'Cynthia',\n",
       " 'Dan',\n",
       " 'Dana',\n",
       " 'Danielle',\n",
       " 'Danny',\n",
       " 'Dave',\n",
       " 'David',\n",
       " 'Devon',\n",
       " 'Dina',\n",
       " 'Director',\n",
       " 'Dirk',\n",
       " 'Doctor',\n",
       " 'Don',\n",
       " 'Donny',\n",
       " 'Doug',\n",
       " 'Drew',\n",
       " 'Duncan',\n",
       " 'Earl',\n",
       " 'Eddie',\n",
       " 'Eldad',\n",
       " 'Elizabeth',\n",
       " 'Emeril',\n",
       " 'Emily',\n",
       " 'Emma',\n",
       " 'Employee',\n",
       " 'Eric',\n",
       " 'Erica',\n",
       " 'Erin',\n",
       " 'Ernie',\n",
       " 'Estelle',\n",
       " 'Estl',\n",
       " 'Everybody',\n",
       " 'Everyone',\n",
       " 'Extra',\n",
       " 'Fbob',\n",
       " 'Felicity',\n",
       " 'Fergie',\n",
       " 'Fireman',\n",
       " 'Fran',\n",
       " 'Frank',\n",
       " 'Frankie',\n",
       " 'Frannie',\n",
       " 'Fredrick',\n",
       " 'Friend',\n",
       " 'Friends',\n",
       " 'Gail',\n",
       " 'Gang',\n",
       " 'Gary',\n",
       " 'Gavin',\n",
       " 'Gene',\n",
       " 'Gerston',\n",
       " 'Gert',\n",
       " 'Ginger',\n",
       " 'Girl',\n",
       " 'Girls',\n",
       " 'Glenda',\n",
       " 'Grandmother',\n",
       " 'Gunter',\n",
       " 'Gunther',\n",
       " 'Guy',\n",
       " 'Guys',\n",
       " 'Handyman',\n",
       " 'Hayley',\n",
       " 'Heather',\n",
       " 'Helen',\n",
       " 'Helena',\n",
       " 'Henrietta',\n",
       " 'Hilda',\n",
       " 'Hillary',\n",
       " 'Hitchhiker',\n",
       " 'Hooker',\n",
       " 'Hope',\n",
       " 'Hoshi',\n",
       " 'Host',\n",
       " 'Housekeeper',\n",
       " 'Intercom',\n",
       " 'Intern',\n",
       " 'Interviewer',\n",
       " 'Isabella',\n",
       " 'Issac',\n",
       " 'Jack',\n",
       " 'Jade',\n",
       " 'Jake',\n",
       " 'Jamie',\n",
       " 'Jane',\n",
       " 'Janice',\n",
       " 'Janine',\n",
       " 'Janitor',\n",
       " 'Jasmine',\n",
       " 'Jason',\n",
       " 'Jeanette',\n",
       " 'Jeannie',\n",
       " 'Jeannine',\n",
       " 'Jen',\n",
       " 'Jennifer',\n",
       " 'Jester',\n",
       " 'Jill',\n",
       " 'Jim',\n",
       " 'Joanna',\n",
       " 'Joanne',\n",
       " 'Joey',\n",
       " 'Josh',\n",
       " 'Joshua',\n",
       " 'Judge',\n",
       " 'Judy',\n",
       " 'Julie',\n",
       " 'Julio',\n",
       " 'Kara',\n",
       " 'Karin',\n",
       " 'Kash',\n",
       " 'Kate',\n",
       " 'Kathy',\n",
       " 'Katie',\n",
       " 'Ken',\n",
       " 'Kevin',\n",
       " 'Kid',\n",
       " 'Kids',\n",
       " 'Kiki',\n",
       " 'Kim',\n",
       " 'Kori',\n",
       " 'Krista',\n",
       " 'Kristen',\n",
       " 'Kristin',\n",
       " 'Kyle',\n",
       " 'Lady',\n",
       " 'Larry',\n",
       " 'Laura',\n",
       " 'Lauren',\n",
       " 'Leader',\n",
       " 'Lecturer',\n",
       " 'Lennart',\n",
       " 'Leslie',\n",
       " 'Lewis',\n",
       " 'Liam',\n",
       " 'Lipson',\n",
       " 'Lisa',\n",
       " 'Lizzie',\n",
       " 'Locksmith',\n",
       " 'Lorraine',\n",
       " 'Lowell',\n",
       " 'Luisa',\n",
       " 'Lydia',\n",
       " 'Mac',\n",
       " 'Machine',\n",
       " 'Mackenzie',\n",
       " 'Malcom',\n",
       " 'Man',\n",
       " 'Manny',\n",
       " 'Marc',\n",
       " 'Marge',\n",
       " 'Margha',\n",
       " 'Marjorie',\n",
       " 'Mark',\n",
       " 'Marsha',\n",
       " 'Matt',\n",
       " 'Matthew',\n",
       " 'Max',\n",
       " 'Meg',\n",
       " 'Megan',\n",
       " 'Mel',\n",
       " 'Melanie',\n",
       " 'Melissa',\n",
       " 'Message',\n",
       " 'Mich',\n",
       " 'Michelle',\n",
       " 'Mike',\n",
       " 'Mindy',\n",
       " 'Minister',\n",
       " 'Minster',\n",
       " 'Mischa',\n",
       " 'Missy',\n",
       " 'Molly',\n",
       " 'Mona',\n",
       " 'Monica',\n",
       " 'Morse',\n",
       " 'Mover',\n",
       " 'Mugger',\n",
       " 'Nancy',\n",
       " 'Narrator',\n",
       " 'Nina',\n",
       " 'Note',\n",
       " 'Nurse',\n",
       " 'Others',\n",
       " 'Oven',\n",
       " 'Owen',\n",
       " 'Pa',\n",
       " 'Paleontologist',\n",
       " 'Paolo',\n",
       " 'Parker',\n",
       " 'Passenger',\n",
       " 'Passerby',\n",
       " 'Patrick',\n",
       " 'Patron',\n",
       " 'Paul',\n",
       " 'Paula',\n",
       " 'Paulo',\n",
       " 'Pete',\n",
       " 'Peter',\n",
       " 'Petrie',\n",
       " 'Phil',\n",
       " 'Phoebe',\n",
       " 'Photographer',\n",
       " 'Policeman',\n",
       " 'Precious',\n",
       " 'Producer',\n",
       " 'Quartet',\n",
       " 'Rachel',\n",
       " 'Radio',\n",
       " 'Ray',\n",
       " 'Raymond',\n",
       " 'Realtor',\n",
       " 'Receptionist',\n",
       " 'Referee',\n",
       " 'Richard',\n",
       " 'Rick',\n",
       " 'Rita',\n",
       " 'Rob',\n",
       " 'Robbie',\n",
       " 'Robert',\n",
       " 'Robin',\n",
       " 'Roger',\n",
       " 'Ronni',\n",
       " 'Ross',\n",
       " 'Roy',\n",
       " 'Rtst',\n",
       " 'Russ',\n",
       " 'Russell',\n",
       " 'Ryan',\n",
       " 'Salesman',\n",
       " 'Sally',\n",
       " 'Sandy',\n",
       " 'Santos',\n",
       " 'Sarah',\n",
       " 'Scott',\n",
       " 'Sebastian',\n",
       " 'Secretary',\n",
       " 'Sergei',\n",
       " 'Shelley',\n",
       " 'Sid',\n",
       " 'Singer',\n",
       " 'Sonia',\n",
       " 'Sophie',\n",
       " 'Spokeswoman',\n",
       " 'Stanley',\n",
       " 'Stephanie',\n",
       " 'Steve',\n",
       " 'Stevens',\n",
       " 'Story',\n",
       " 'Stranger',\n",
       " 'Stripper',\n",
       " 'Stu',\n",
       " 'Student',\n",
       " 'Supervisor',\n",
       " 'Susan',\n",
       " 'Susie',\n",
       " 'Tag',\n",
       " 'Tape',\n",
       " 'Teacher',\n",
       " 'Teleplay',\n",
       " 'Terry',\n",
       " 'Theodore',\n",
       " 'Tilly',\n",
       " 'Tim',\n",
       " 'Together',\n",
       " 'Tom',\n",
       " 'Tommy',\n",
       " 'Tony',\n",
       " 'Trainer',\n",
       " 'Tv',\n",
       " 'Ursula',\n",
       " 'Video',\n",
       " 'Vince',\n",
       " 'Voice',\n",
       " 'Waiter',\n",
       " 'Waiters',\n",
       " 'Waitress',\n",
       " 'Wayne',\n",
       " 'Wendy',\n",
       " 'Whitfield',\n",
       " 'Whitney',\n",
       " 'Will',\n",
       " 'Witch',\n",
       " 'Woman',\n",
       " 'Writer',\n",
       " 'Zack',\n",
       " 'Zoe']"
      ]
     },
     "execution_count": 70,
     "metadata": {},
     "output_type": "execute_result"
    }
   ],
   "source": [
    "item = 'character'\n",
    "endpoint = f'http://localhost:5000/list/{item}'\n",
    "r = requests.get(endpoint)\n",
    "r.json()"
   ]
  },
  {
   "cell_type": "markdown",
   "metadata": {},
   "source": [
    "**Error Test**"
   ]
  },
  {
   "cell_type": "code",
   "execution_count": 73,
   "metadata": {},
   "outputs": [
    {
     "data": {
      "text/plain": [
       "'Error. The item fakeitem entried is not correct. Please check API documentation for available items.'"
      ]
     },
     "execution_count": 73,
     "metadata": {},
     "output_type": "execute_result"
    }
   ],
   "source": [
    "item = 'fakeitem'\n",
    "endpoint = f'http://localhost:5000/list/{item}'\n",
    "r = requests.get(endpoint)\n",
    "r.json()"
   ]
  },
  {
   "cell_type": "markdown",
   "metadata": {},
   "source": [
    "### List of Characters, specific Season"
   ]
  },
  {
   "cell_type": "markdown",
   "metadata": {},
   "source": [
    "**Success Test**"
   ]
  },
  {
   "cell_type": "code",
   "execution_count": 75,
   "metadata": {},
   "outputs": [
    {
     "data": {
      "text/plain": [
       "['Actor',\n",
       " 'Adrienne',\n",
       " 'Alan',\n",
       " 'Alex',\n",
       " 'Alice',\n",
       " 'Alison',\n",
       " 'All',\n",
       " 'Allesandro',\n",
       " 'Amanda',\n",
       " 'Amber',\n",
       " 'Amger',\n",
       " 'Amy',\n",
       " 'Anchorwoman',\n",
       " 'Andrea',\n",
       " 'Angela',\n",
       " 'Annabelle',\n",
       " 'Announcer',\n",
       " 'Arthur',\n",
       " 'Ashley',\n",
       " 'Assistant',\n",
       " 'Attendant',\n",
       " 'Aurora',\n",
       " 'Ballerina',\n",
       " 'Bandleader',\n",
       " 'Barry',\n",
       " 'Ben',\n",
       " 'Benjamin',\n",
       " 'Bernice',\n",
       " 'Bill',\n",
       " 'Billy',\n",
       " 'Bitsy',\n",
       " 'Bob',\n",
       " 'Bobby',\n",
       " 'Bonnie',\n",
       " 'Boss',\n",
       " 'Both',\n",
       " 'Boy',\n",
       " 'Boys',\n",
       " 'Brenda',\n",
       " 'Burt',\n",
       " 'Cailin',\n",
       " 'Caitlin',\n",
       " 'Carl',\n",
       " 'Carol',\n",
       " 'Caroline',\n",
       " 'Casey',\n",
       " 'Cashier',\n",
       " 'Cassie',\n",
       " 'Catherine',\n",
       " 'Cecilia',\n",
       " 'Celia',\n",
       " 'Chandler',\n",
       " 'Charlie',\n",
       " 'Cheryl',\n",
       " 'Chip',\n",
       " 'Chloe',\n",
       " 'Claudia',\n",
       " 'Clerk',\n",
       " 'Cliff',\n",
       " 'Clown',\n",
       " 'Colleen',\n",
       " 'Commercial',\n",
       " 'Conan',\n",
       " 'Cookie',\n",
       " 'Cop',\n",
       " 'Courtney',\n",
       " 'Cowgirl',\n",
       " 'Croupler',\n",
       " 'Customer',\n",
       " 'Customers',\n",
       " 'Cynthia',\n",
       " 'Dan',\n",
       " 'Dana',\n",
       " 'Danielle',\n",
       " 'Danny',\n",
       " 'Dave',\n",
       " 'David',\n",
       " 'Devon',\n",
       " 'Dina',\n",
       " 'Director',\n",
       " 'Dirk',\n",
       " 'Doctor',\n",
       " 'Don',\n",
       " 'Donny',\n",
       " 'Doug',\n",
       " 'Drew',\n",
       " 'Duncan',\n",
       " 'Earl',\n",
       " 'Eddie',\n",
       " 'Eldad',\n",
       " 'Elizabeth',\n",
       " 'Emeril',\n",
       " 'Emily',\n",
       " 'Emma',\n",
       " 'Employee',\n",
       " 'Eric',\n",
       " 'Erica',\n",
       " 'Erin',\n",
       " 'Ernie',\n",
       " 'Estelle',\n",
       " 'Estl',\n",
       " 'Everybody',\n",
       " 'Everyone',\n",
       " 'Extra',\n",
       " 'Fbob',\n",
       " 'Felicity',\n",
       " 'Fergie',\n",
       " 'Fireman',\n",
       " 'Fran',\n",
       " 'Frank',\n",
       " 'Frankie',\n",
       " 'Frannie',\n",
       " 'Fredrick',\n",
       " 'Friend',\n",
       " 'Friends',\n",
       " 'Gail',\n",
       " 'Gang',\n",
       " 'Gary',\n",
       " 'Gavin',\n",
       " 'Gene',\n",
       " 'Gerston',\n",
       " 'Gert',\n",
       " 'Ginger',\n",
       " 'Girl',\n",
       " 'Girls',\n",
       " 'Glenda',\n",
       " 'Grandmother',\n",
       " 'Gunter',\n",
       " 'Gunther',\n",
       " 'Guy',\n",
       " 'Guys',\n",
       " 'Handyman',\n",
       " 'Hayley',\n",
       " 'Heather',\n",
       " 'Helen',\n",
       " 'Helena',\n",
       " 'Henrietta',\n",
       " 'Hilda',\n",
       " 'Hillary',\n",
       " 'Hitchhiker',\n",
       " 'Hooker',\n",
       " 'Hope',\n",
       " 'Hoshi',\n",
       " 'Host',\n",
       " 'Housekeeper',\n",
       " 'Intercom',\n",
       " 'Intern',\n",
       " 'Interviewer',\n",
       " 'Isabella',\n",
       " 'Issac',\n",
       " 'Jack',\n",
       " 'Jade',\n",
       " 'Jake',\n",
       " 'Jamie',\n",
       " 'Jane',\n",
       " 'Janice',\n",
       " 'Janine',\n",
       " 'Janitor',\n",
       " 'Jasmine',\n",
       " 'Jason',\n",
       " 'Jeanette',\n",
       " 'Jeannie',\n",
       " 'Jeannine',\n",
       " 'Jen',\n",
       " 'Jennifer',\n",
       " 'Jester',\n",
       " 'Jill',\n",
       " 'Jim',\n",
       " 'Joanna',\n",
       " 'Joanne',\n",
       " 'Joey',\n",
       " 'Josh',\n",
       " 'Joshua',\n",
       " 'Judge',\n",
       " 'Judy',\n",
       " 'Julie',\n",
       " 'Julio',\n",
       " 'Kara',\n",
       " 'Karin',\n",
       " 'Kash',\n",
       " 'Kate',\n",
       " 'Kathy',\n",
       " 'Katie',\n",
       " 'Ken',\n",
       " 'Kevin',\n",
       " 'Kid',\n",
       " 'Kids',\n",
       " 'Kiki',\n",
       " 'Kim',\n",
       " 'Kori',\n",
       " 'Krista',\n",
       " 'Kristen',\n",
       " 'Kristin',\n",
       " 'Kyle',\n",
       " 'Lady',\n",
       " 'Larry',\n",
       " 'Laura',\n",
       " 'Lauren',\n",
       " 'Leader',\n",
       " 'Lecturer',\n",
       " 'Lennart',\n",
       " 'Leslie',\n",
       " 'Lewis',\n",
       " 'Liam',\n",
       " 'Lipson',\n",
       " 'Lisa',\n",
       " 'Lizzie',\n",
       " 'Locksmith',\n",
       " 'Lorraine',\n",
       " 'Lowell',\n",
       " 'Luisa',\n",
       " 'Lydia',\n",
       " 'Mac',\n",
       " 'Machine',\n",
       " 'Mackenzie',\n",
       " 'Malcom',\n",
       " 'Man',\n",
       " 'Manny',\n",
       " 'Marc',\n",
       " 'Marge',\n",
       " 'Margha',\n",
       " 'Marjorie',\n",
       " 'Mark',\n",
       " 'Marsha',\n",
       " 'Matt',\n",
       " 'Matthew',\n",
       " 'Max',\n",
       " 'Meg',\n",
       " 'Megan',\n",
       " 'Mel',\n",
       " 'Melanie',\n",
       " 'Melissa',\n",
       " 'Message',\n",
       " 'Mich',\n",
       " 'Michelle',\n",
       " 'Mike',\n",
       " 'Mindy',\n",
       " 'Minister',\n",
       " 'Minster',\n",
       " 'Mischa',\n",
       " 'Missy',\n",
       " 'Molly',\n",
       " 'Mona',\n",
       " 'Monica',\n",
       " 'Morse',\n",
       " 'Mover',\n",
       " 'Mugger',\n",
       " 'Nancy',\n",
       " 'Narrator',\n",
       " 'Nina',\n",
       " 'Note',\n",
       " 'Nurse',\n",
       " 'Others',\n",
       " 'Oven',\n",
       " 'Owen',\n",
       " 'Pa',\n",
       " 'Paleontologist',\n",
       " 'Paolo',\n",
       " 'Parker',\n",
       " 'Passenger',\n",
       " 'Passerby',\n",
       " 'Patrick',\n",
       " 'Patron',\n",
       " 'Paul',\n",
       " 'Paula',\n",
       " 'Paulo',\n",
       " 'Pete',\n",
       " 'Peter',\n",
       " 'Petrie',\n",
       " 'Phil',\n",
       " 'Phoebe',\n",
       " 'Photographer',\n",
       " 'Policeman',\n",
       " 'Precious',\n",
       " 'Producer',\n",
       " 'Quartet',\n",
       " 'Rachel',\n",
       " 'Radio',\n",
       " 'Ray',\n",
       " 'Raymond',\n",
       " 'Realtor',\n",
       " 'Receptionist',\n",
       " 'Referee',\n",
       " 'Richard',\n",
       " 'Rick',\n",
       " 'Rita',\n",
       " 'Rob',\n",
       " 'Robbie',\n",
       " 'Robert',\n",
       " 'Robin',\n",
       " 'Roger',\n",
       " 'Ronni',\n",
       " 'Ross',\n",
       " 'Roy',\n",
       " 'Rtst',\n",
       " 'Russ',\n",
       " 'Russell',\n",
       " 'Ryan',\n",
       " 'Salesman',\n",
       " 'Sally',\n",
       " 'Sandy',\n",
       " 'Santos',\n",
       " 'Sarah',\n",
       " 'Scott',\n",
       " 'Sebastian',\n",
       " 'Secretary',\n",
       " 'Sergei',\n",
       " 'Shelley',\n",
       " 'Sid',\n",
       " 'Singer',\n",
       " 'Sonia',\n",
       " 'Sophie',\n",
       " 'Spokeswoman',\n",
       " 'Stanley',\n",
       " 'Stephanie',\n",
       " 'Steve',\n",
       " 'Stevens',\n",
       " 'Story',\n",
       " 'Stranger',\n",
       " 'Stripper',\n",
       " 'Stu',\n",
       " 'Student',\n",
       " 'Supervisor',\n",
       " 'Susan',\n",
       " 'Susie',\n",
       " 'Tag',\n",
       " 'Tape',\n",
       " 'Teacher',\n",
       " 'Teleplay',\n",
       " 'Terry',\n",
       " 'Theodore',\n",
       " 'Tilly',\n",
       " 'Tim',\n",
       " 'Together',\n",
       " 'Tom',\n",
       " 'Tommy',\n",
       " 'Tony',\n",
       " 'Trainer',\n",
       " 'Tv',\n",
       " 'Ursula',\n",
       " 'Video',\n",
       " 'Vince',\n",
       " 'Voice',\n",
       " 'Waiter',\n",
       " 'Waiters',\n",
       " 'Waitress',\n",
       " 'Wayne',\n",
       " 'Wendy',\n",
       " 'Whitfield',\n",
       " 'Whitney',\n",
       " 'Will',\n",
       " 'Witch',\n",
       " 'Woman',\n",
       " 'Writer',\n",
       " 'Zack',\n",
       " 'Zoe']"
      ]
     },
     "execution_count": 75,
     "metadata": {},
     "output_type": "execute_result"
    }
   ],
   "source": [
    "item = 'character'\n",
    "endpoint = f'http://localhost:5000/list/{item}'\n",
    "params = {'season': 5}\n",
    "r = requests.get(endpoint)\n",
    "r.json()"
   ]
  },
  {
   "cell_type": "markdown",
   "metadata": {},
   "source": [
    "**Error Test**"
   ]
  },
  {
   "cell_type": "code",
   "execution_count": 77,
   "metadata": {},
   "outputs": [
    {
     "data": {
      "text/plain": [
       "'Error. The season 25 entried does not exist. Please check API documentation for finding available seasons.'"
      ]
     },
     "execution_count": 77,
     "metadata": {},
     "output_type": "execute_result"
    }
   ],
   "source": [
    "item = 'character'\n",
    "endpoint = f'http://localhost:5000/list/{item}'\n",
    "params = {'season': 25}\n",
    "r = requests.get(endpoint, params = params)\n",
    "r.json()"
   ]
  },
  {
   "cell_type": "markdown",
   "metadata": {},
   "source": [
    "### List of Characters, specific Season, specific Episode"
   ]
  },
  {
   "cell_type": "markdown",
   "metadata": {},
   "source": [
    "**Success Test**"
   ]
  },
  {
   "cell_type": "code",
   "execution_count": 78,
   "metadata": {},
   "outputs": [
    {
     "data": {
      "text/plain": [
       "['Alice',\n",
       " 'All',\n",
       " 'Chandler',\n",
       " 'Dan',\n",
       " 'Frank',\n",
       " 'Joey',\n",
       " 'Monica',\n",
       " 'Nurse',\n",
       " 'Phoebe',\n",
       " 'Rachel',\n",
       " 'Ross']"
      ]
     },
     "execution_count": 78,
     "metadata": {},
     "output_type": "execute_result"
    }
   ],
   "source": [
    "item = 'character'\n",
    "endpoint = f'http://localhost:5000/list/{item}'\n",
    "params = {'season': 5, 'episode': 3}\n",
    "r = requests.get(endpoint, params = params)\n",
    "r.json()"
   ]
  },
  {
   "cell_type": "markdown",
   "metadata": {},
   "source": [
    "**Error Test**"
   ]
  },
  {
   "cell_type": "code",
   "execution_count": 79,
   "metadata": {},
   "outputs": [
    {
     "data": {
      "text/plain": [
       "'Error. The season 5,  episode 30 entried does not exist. Please check API documentation for finding available seasons and episodes.'"
      ]
     },
     "execution_count": 79,
     "metadata": {},
     "output_type": "execute_result"
    }
   ],
   "source": [
    "item = 'character'\n",
    "endpoint = f'http://localhost:5000/list/{item}'\n",
    "params = {'season': 5, 'episode': 30}\n",
    "r = requests.get(endpoint, params = params)\n",
    "r.json()"
   ]
  },
  {
   "cell_type": "markdown",
   "metadata": {},
   "source": [
    "### List of Scenes"
   ]
  },
  {
   "cell_type": "markdown",
   "metadata": {},
   "source": [
    "**Success Test**"
   ]
  },
  {
   "cell_type": "code",
   "execution_count": 80,
   "metadata": {},
   "outputs": [
    {
     "data": {
      "text/plain": [
       "[{'scene_id': '5fc284a1abbba8b12effa2ac', 'season': '5', 'episode': '3'},\n",
       " {'scene_id': '5fc284a1abbba8b12effa2ad', 'season': '5', 'episode': '3'},\n",
       " {'scene_id': '5fc284a1abbba8b12effa2ae', 'season': '5', 'episode': '3'},\n",
       " {'scene_id': '5fc284a1abbba8b12effa2af', 'season': '5', 'episode': '3'},\n",
       " {'scene_id': '5fc284a1abbba8b12effa2b0', 'season': '5', 'episode': '3'},\n",
       " {'scene_id': '5fc284a1abbba8b12effa2b1', 'season': '5', 'episode': '3'},\n",
       " {'scene_id': '5fc284a1abbba8b12effa2b2', 'season': '5', 'episode': '3'},\n",
       " {'scene_id': '5fc284a1abbba8b12effa2b3', 'season': '5', 'episode': '3'},\n",
       " {'scene_id': '5fc284a1abbba8b12effa2b4', 'season': '5', 'episode': '3'},\n",
       " {'scene_id': '5fc284a1abbba8b12effa2b5', 'season': '5', 'episode': '3'},\n",
       " {'scene_id': '5fc284a2abbba8b12effa2b6', 'season': '5', 'episode': '3'},\n",
       " {'scene_id': '5fc284a2abbba8b12effa2b7', 'season': '5', 'episode': '3'},\n",
       " {'scene_id': '5fc284a2abbba8b12effa2b8', 'season': '5', 'episode': '3'},\n",
       " {'scene_id': '5fc284a2abbba8b12effa2b9', 'season': '5', 'episode': '3'},\n",
       " {'scene_id': '5fc284a2abbba8b12effa2ba', 'season': '5', 'episode': '3'},\n",
       " {'scene_id': '5fc284a2abbba8b12effa2bb', 'season': '5', 'episode': '3'},\n",
       " {'scene_id': '5fc284a2abbba8b12effa2bc', 'season': '5', 'episode': '3'}]"
      ]
     },
     "execution_count": 80,
     "metadata": {},
     "output_type": "execute_result"
    }
   ],
   "source": [
    "item = 'scene'\n",
    "endpoint = f'http://localhost:5000/list/{item}'\n",
    "params = {'season': 5, 'episode': 3}\n",
    "r = requests.get(endpoint, params = params)\n",
    "r.json()"
   ]
  },
  {
   "cell_type": "markdown",
   "metadata": {},
   "source": [
    "**Error Test**"
   ]
  },
  {
   "cell_type": "code",
   "execution_count": 81,
   "metadata": {},
   "outputs": [
    {
     "data": {
      "text/plain": [
       "'Error. Missing a required parameter. Please check API documentation.'"
      ]
     },
     "execution_count": 81,
     "metadata": {},
     "output_type": "execute_result"
    }
   ],
   "source": [
    "item = 'scene'\n",
    "endpoint = f'http://localhost:5000/list/{item}'\n",
    "params = {'season': 5}\n",
    "r = requests.get(endpoint, params = params)\n",
    "r.json()"
   ]
  },
  {
   "cell_type": "markdown",
   "metadata": {},
   "source": [
    "### List of Seasons"
   ]
  },
  {
   "cell_type": "markdown",
   "metadata": {},
   "source": [
    "**Success Test**"
   ]
  },
  {
   "cell_type": "code",
   "execution_count": 82,
   "metadata": {},
   "outputs": [
    {
     "data": {
      "text/plain": [
       "['1', '10', '2', '3', '4', '5', '6', '7', '8', '9']"
      ]
     },
     "execution_count": 82,
     "metadata": {},
     "output_type": "execute_result"
    }
   ],
   "source": [
    "item = 'season'\n",
    "endpoint = f'http://localhost:5000/list/{item}'\n",
    "r = requests.get(endpoint)\n",
    "r.json()"
   ]
  },
  {
   "cell_type": "markdown",
   "metadata": {},
   "source": [
    "**Error Test**"
   ]
  },
  {
   "cell_type": "code",
   "execution_count": 83,
   "metadata": {},
   "outputs": [
    {
     "data": {
      "text/plain": [
       "'Error. The item seasonss entried is not correct. Please check API documentation for available items.'"
      ]
     },
     "execution_count": 83,
     "metadata": {},
     "output_type": "execute_result"
    }
   ],
   "source": [
    "item = 'seasonss'\n",
    "endpoint = f'http://localhost:5000/list/{item}'\n",
    "r = requests.get(endpoint)\n",
    "r.json()"
   ]
  },
  {
   "cell_type": "markdown",
   "metadata": {},
   "source": [
    "### List of Episodes"
   ]
  },
  {
   "cell_type": "markdown",
   "metadata": {},
   "source": [
    "**Success Test**"
   ]
  },
  {
   "cell_type": "code",
   "execution_count": 88,
   "metadata": {},
   "outputs": [
    {
     "data": {
      "text/plain": [
       "['1',\n",
       " '10',\n",
       " '11',\n",
       " '12',\n",
       " '13',\n",
       " '14',\n",
       " '15',\n",
       " '16',\n",
       " '17',\n",
       " '18',\n",
       " '19',\n",
       " '2',\n",
       " '20',\n",
       " '21',\n",
       " '22',\n",
       " '23',\n",
       " '24',\n",
       " '3',\n",
       " '4',\n",
       " '5',\n",
       " '6',\n",
       " '7',\n",
       " '8',\n",
       " '9']"
      ]
     },
     "execution_count": 88,
     "metadata": {},
     "output_type": "execute_result"
    }
   ],
   "source": [
    "item = 'episode'\n",
    "params = {'season': 7}\n",
    "endpoint = f'http://localhost:5000/list/{item}'\n",
    "r = requests.get(endpoint, params = params)\n",
    "r.json()"
   ]
  },
  {
   "cell_type": "markdown",
   "metadata": {},
   "source": [
    "**Error Test**"
   ]
  },
  {
   "cell_type": "code",
   "execution_count": 84,
   "metadata": {},
   "outputs": [
    {
     "data": {
      "text/plain": [
       "'Error. The season -1 entried does not exist. Please check API documentation for finding available seasons.'"
      ]
     },
     "execution_count": 84,
     "metadata": {},
     "output_type": "execute_result"
    }
   ],
   "source": [
    "item = 'episode'\n",
    "endpoint = f'http://localhost:5000/list/{item}'\n",
    "r = requests.get(endpoint)\n",
    "r.json()"
   ]
  },
  {
   "cell_type": "code",
   "execution_count": 85,
   "metadata": {},
   "outputs": [
    {
     "data": {
      "text/plain": [
       "'Error. The season 25 entried does not exist. Please check API documentation for finding available seasons.'"
      ]
     },
     "execution_count": 85,
     "metadata": {},
     "output_type": "execute_result"
    }
   ],
   "source": [
    "item = 'episode'\n",
    "params = {'season': 25}\n",
    "endpoint = f'http://localhost:5000/list/{item}'\n",
    "r = requests.get(endpoint, params = params)\n",
    "r.json()"
   ]
  },
  {
   "cell_type": "markdown",
   "metadata": {},
   "source": [
    "### Random Character Script Line"
   ]
  },
  {
   "cell_type": "markdown",
   "metadata": {},
   "source": [
    "**Success Test**"
   ]
  },
  {
   "cell_type": "code",
   "execution_count": 68,
   "metadata": {
    "scrolled": true
   },
   "outputs": [
    {
     "data": {
      "text/plain": [
       "[{'line': 'Hey!',\n",
       "  'episode': {'season': '4', 'number': '14', 'name': 'Joeys Dirty Day'},\n",
       "  'scene': {'_id': '5fc28496abbba8b12effa20a',\n",
       "   'attendees': ['Chandler', 'Joey', 'Monica', 'Ross', 'Phoebe', 'Rachel']}}]"
      ]
     },
     "execution_count": 68,
     "metadata": {},
     "output_type": "execute_result"
    }
   ],
   "source": [
    "character = 'Monica'\n",
    "endpoint = f'http://localhost:5000/line/{character}'\n",
    "r = requests.get(endpoint)\n",
    "r.json()"
   ]
  },
  {
   "cell_type": "markdown",
   "metadata": {},
   "source": [
    "**Error Test**"
   ]
  },
  {
   "cell_type": "code",
   "execution_count": 69,
   "metadata": {
    "scrolled": true
   },
   "outputs": [
    {
     "data": {
      "text/plain": [
       "'Error. The character Dummy do not exist. Please check API documentation for finding available characters.'"
      ]
     },
     "execution_count": 69,
     "metadata": {},
     "output_type": "execute_result"
    }
   ],
   "source": [
    "character = 'Dummy'\n",
    "endpoint = f'http://localhost:5000/line/{character}'\n",
    "r = requests.get(endpoint)\n",
    "r.json()"
   ]
  },
  {
   "cell_type": "markdown",
   "metadata": {},
   "source": [
    "### Specific Scene"
   ]
  },
  {
   "cell_type": "markdown",
   "metadata": {},
   "source": [
    "**Success Test**"
   ]
  },
  {
   "cell_type": "code",
   "execution_count": 89,
   "metadata": {},
   "outputs": [
    {
     "data": {
      "text/plain": [
       "[{'_id': '5fc28496abbba8b12effa20a',\n",
       "  'episode': {'season': '4', 'number': '14', 'name': 'Joeys Dirty Day'},\n",
       "  'attendees': ['Chandler', 'Joey', 'Monica', 'Ross', 'Phoebe', 'Rachel'],\n",
       "  'script': [{'speaker': 'Chandler',\n",
       "    'line': 'Come on, let me see that smile.',\n",
       "    'sentiment_score': 0.3},\n",
       "   {'speaker': 'Joey', 'line': 'I don’t wanna.', 'sentiment_score': 0.0},\n",
       "   {'speaker': 'Chandler', 'line': 'Please?', 'sentiment_score': 0.0},\n",
       "   {'speaker': 'Joey',\n",
       "    'line': 'I wanted to go to the strip club!',\n",
       "    'sentiment_score': 0.0},\n",
       "   {'speaker': 'Chandler',\n",
       "    'line': 'I know, I know, but you’re gonna have plenty of chances. There are literally thousands of women out there just waiting to screw me over.',\n",
       "    'sentiment_score': 0.0},\n",
       "   {'speaker': 'Joey', 'line': 'Yeah, all right.', 'sentiment_score': 0.286},\n",
       "   {'speaker': 'Monica', 'line': 'Hey!', 'sentiment_score': 0.0},\n",
       "   {'speaker': 'Ross', 'line': 'Hey!', 'sentiment_score': 0.0},\n",
       "   {'speaker': 'Phoebe',\n",
       "    'line': 'Hey—ooh so, how was Vermont?',\n",
       "    'sentiment_score': 0.0},\n",
       "   {'speaker': 'Ross',\n",
       "    'line': 'Emily is…incredible. I mean there-there are no words to describe it, I mean the whole weekend was like a dream.  Oh! And you! Rach!',\n",
       "    'sentiment_score': 0.119},\n",
       "   {'speaker': 'Rachel', 'line': 'Oh, hey!', 'sentiment_score': 0.0},\n",
       "   {'speaker': 'Ross',\n",
       "    'line': 'Hey! You were so right!',\n",
       "    'sentiment_score': 0.286},\n",
       "   {'speaker': 'Rachel', 'line': 'What?', 'sentiment_score': 0.0},\n",
       "   {'speaker': 'Ross',\n",
       "    'line': 'Uh, what you said, about us being in a place where we could finally be happy for each other.',\n",
       "    'sentiment_score': 0.8},\n",
       "   {'speaker': 'Rachel', 'line': 'Oh, hmm.', 'sentiment_score': 0.0},\n",
       "   {'speaker': 'Ross',\n",
       "    'line': 'I mean, I, I-I admit I-I wasn’t quite there. Y’know, I mean the thought of you and that-that Josh guy…',\n",
       "    'sentiment_score': -0.312},\n",
       "   {'speaker': 'Rachel', 'line': 'Joshua.', 'sentiment_score': 0.0},\n",
       "   {'speaker': 'Ross',\n",
       "    'line': 'Joshua…guy at that club, dancing and having a good time, the thought of it kinda…y’know.',\n",
       "    'sentiment_score': 0.7},\n",
       "   {'speaker': 'Rachel', 'line': 'Yeah, I…', 'sentiment_score': 0.0},\n",
       "   {'speaker': 'Ross',\n",
       "    'line': 'But now! I’m there! I’m totally there! I’m-I’m finally where you are!',\n",
       "    'sentiment_score': 0.0},\n",
       "   {'speaker': 'Rachel',\n",
       "    'line': 'Oh, thank goodness!',\n",
       "    'sentiment_score': 0.0},\n",
       "   {'speaker': 'Ross',\n",
       "    'line': 'Yeah, and-and thank you for Emily.',\n",
       "    'sentiment_score': 0.0},\n",
       "   {'speaker': 'Rachel',\n",
       "    'line': 'Oh, no problem. I’m so glad I could help. Happy for you.',\n",
       "    'sentiment_score': 0.65},\n",
       "   {'speaker': 'Ross', 'line': 'Happy for you.', 'sentiment_score': 0.8},\n",
       "   {'speaker': 'Rachel',\n",
       "    'line': 'No, happy for you!',\n",
       "    'sentiment_score': -0.4}]}]"
      ]
     },
     "execution_count": 89,
     "metadata": {},
     "output_type": "execute_result"
    }
   ],
   "source": [
    "scene_id = '5fc28496abbba8b12effa20a'\n",
    "endpoint = f'http://localhost:5000/scene/{scene_id}'\n",
    "r = requests.get(endpoint)\n",
    "r.json()"
   ]
  },
  {
   "cell_type": "markdown",
   "metadata": {},
   "source": [
    "**Error Test**"
   ]
  },
  {
   "cell_type": "code",
   "execution_count": 91,
   "metadata": {},
   "outputs": [
    {
     "data": {
      "text/plain": [
       "'Error. The scene_id XXXXXXXXXXX8b12effa20a does not exist. Please check API documentation for finding available scene ids.'"
      ]
     },
     "execution_count": 91,
     "metadata": {},
     "output_type": "execute_result"
    }
   ],
   "source": [
    "scene_id = 'XXXXXXXXXXX8b12effa20a'\n",
    "endpoint = f'http://localhost:5000/scene/{scene_id}'\n",
    "r = requests.get(endpoint)\n",
    "r.json()"
   ]
  },
  {
   "cell_type": "markdown",
   "metadata": {},
   "source": [
    "### Random Scene"
   ]
  },
  {
   "cell_type": "markdown",
   "metadata": {},
   "source": [
    "**Success Test**"
   ]
  },
  {
   "cell_type": "code",
   "execution_count": 92,
   "metadata": {},
   "outputs": [
    {
     "data": {
      "text/plain": [
       "[{'_id': '5fc28489abbba8b12effa14d',\n",
       "  'episode': {'season': '3', 'number': '25', 'name': 'At The Beach'},\n",
       "  'attendees': ['Joey',\n",
       "   'Monica',\n",
       "   'All',\n",
       "   'Rachel',\n",
       "   'Ross',\n",
       "   'Chandler',\n",
       "   'Phoebe',\n",
       "   'Bonnie'],\n",
       "  'script': [{'speaker': 'Joey',\n",
       "    'line': \"Hey, y'know what a really good rainy day game is?\",\n",
       "    'sentiment_score': 0.15},\n",
       "   {'speaker': 'Monica', 'line': 'What?!', 'sentiment_score': 0.0},\n",
       "   {'speaker': 'Joey',\n",
       "    'line': 'I mean naked game. Strip poker, we should totally play strip poker.',\n",
       "    'sentiment_score': -0.178},\n",
       "   {'speaker': 'All', 'line': 'No, no!', 'sentiment_score': 0.0},\n",
       "   {'speaker': 'Monica',\n",
       "    'line': 'What are you crazy?!',\n",
       "    'sentiment_score': -0.6},\n",
       "   {'speaker': 'Joey',\n",
       "    'line': 'Come on! When you go away, you-you have to play, it’s like a law!',\n",
       "    'sentiment_score': 0.0},\n",
       "   {'speaker': 'Rachel', 'line': 'Allll done!', 'sentiment_score': 0.0},\n",
       "   {'speaker': 'Monica', 'line': 'Aww, thank you.', 'sentiment_score': 0.3},\n",
       "   {'speaker': 'Rachel',\n",
       "    'line': 'Okay, who’s next?!',\n",
       "    'sentiment_score': 0.25},\n",
       "   {'speaker': 'Ross', 'line': 'No-o-o!  No way!', 'sentiment_score': 0.0},\n",
       "   {'speaker': 'Rachel',\n",
       "    'line': 'Come on, please?! I’m boredddd! You let me do it once before.',\n",
       "    'sentiment_score': 0.0},\n",
       "   {'speaker': 'Ross',\n",
       "    'line': 'Yeah well, if ah, if that’s the rule this weekend...  No!',\n",
       "    'sentiment_score': 0.0},\n",
       "   {'speaker': 'Rachel', 'line': 'Yes!', 'sentiment_score': 0.0},\n",
       "   {'speaker': 'Ross', 'line': 'Get away!', 'sentiment_score': 0.0},\n",
       "   {'speaker': 'Rachel', 'line': 'Just once!', 'sentiment_score': 0.0},\n",
       "   {'speaker': 'Ross', 'line': 'Stay away!', 'sentiment_score': 0.0},\n",
       "   {'speaker': 'Rachel',\n",
       "    'line': 'Take it like a man, Ross!',\n",
       "    'sentiment_score': 0.0},\n",
       "   {'speaker': 'Ross', 'line': 'No!  No!', 'sentiment_score': 0.0},\n",
       "   {'speaker': 'Rachel', 'line': 'Oh, come on!', 'sentiment_score': 0.0},\n",
       "   {'speaker': 'Chandler', 'line': 'Big bullies!!', 'sentiment_score': 0.0},\n",
       "   {'speaker': 'Ross',\n",
       "    'line': 'Ow! Ow! Oh, no-no-no!',\n",
       "    'sentiment_score': 0.0},\n",
       "   {'speaker': 'Phoebe', 'line': 'Oh, hey!', 'sentiment_score': 0.0},\n",
       "   {'speaker': 'Chandler', 'line': 'Hey!', 'sentiment_score': 0.0},\n",
       "   {'speaker': 'Ross', 'line': 'Hey!', 'sentiment_score': 0.0},\n",
       "   {'speaker': 'Phoebe',\n",
       "    'line': 'Oh, so, how are we doing?',\n",
       "    'sentiment_score': 0.0},\n",
       "   {'speaker': 'Chandler',\n",
       "    'line': 'Bored and bored!',\n",
       "    'sentiment_score': -0.5},\n",
       "   {'speaker': 'Joey',\n",
       "    'line': 'Hey, you know what naked card game is never boring?',\n",
       "    'sentiment_score': 0.033},\n",
       "   {'speaker': 'All', 'line': 'Noo!!', 'sentiment_score': 0.0},\n",
       "   {'speaker': 'Monica',\n",
       "    'line': 'So what’s Phoebe like?',\n",
       "    'sentiment_score': 0.0},\n",
       "   {'speaker': 'Phoebe',\n",
       "    'line': 'I’m kind, caring, and sweet. What’s Monica like?',\n",
       "    'sentiment_score': 0.475},\n",
       "   {'speaker': 'Monica',\n",
       "    'line': 'Ah no, the other Phoebe, the one you went to go see.',\n",
       "    'sentiment_score': 0.0},\n",
       "   {'speaker': 'Phoebe',\n",
       "    'line': 'Ohh, I think she knows where my Dad is.',\n",
       "    'sentiment_score': 0.0},\n",
       "   {'speaker': 'Joey', 'line': 'What?', 'sentiment_score': 0.0},\n",
       "   {'speaker': 'Rachel', 'line': 'Really?!', 'sentiment_score': 0.2},\n",
       "   {'speaker': 'Monica',\n",
       "    'line': 'Oh well, where is he?!',\n",
       "    'sentiment_score': 0.0},\n",
       "   {'speaker': 'Phoebe',\n",
       "    'line': 'She was acting, she was pretending like she hasn’t heard from him on years, but I found this picture on her fridge, and look ! Isn’t this what he would look like now?',\n",
       "    'sentiment_score': 0.0},\n",
       "   {'speaker': 'Monica',\n",
       "    'line': 'Totally familiar.',\n",
       "    'sentiment_score': 0.375},\n",
       "   {'speaker': 'Rachel', 'line': 'Oh, yeah.', 'sentiment_score': 0.0},\n",
       "   {'speaker': 'Monica',\n",
       "    'line': 'Well, why would she lie to you?',\n",
       "    'sentiment_score': 0.0},\n",
       "   {'speaker': 'Phoebe',\n",
       "    'line': \"I don’t know, but we’re having dinner tomorrow night, so I figured, she’s gonna tell me then. Y'know maybe she just wanted to give him time to, buy me presents, I don’t know! So, you’re all bored?\",\n",
       "    'sentiment_score': -0.5},\n",
       "   {'speaker': 'All', 'line': 'Ohh!!', 'sentiment_score': 0.0},\n",
       "   {'speaker': 'Chandler', 'line': 'Yes!', 'sentiment_score': 0.0},\n",
       "   {'speaker': 'Phoebe',\n",
       "    'line': 'All right, I’m gonna close my eyes and point to someone, and you, whoever I point has to come up with something fun for us to do, and we have to do it.',\n",
       "    'sentiment_score': 0.293},\n",
       "   {'speaker': 'Joey', 'line': 'Okay, all right.', 'sentiment_score': 0.393},\n",
       "   {'speaker': 'Phoebe', 'line': 'Okay.', 'sentiment_score': 0.5},\n",
       "   {'speaker': 'Joey', 'line': 'Fan out! Fan out!', 'sentiment_score': 0.0},\n",
       "   {'speaker': 'Phoebe',\n",
       "    'line': \"Okay.  Ooh, y'know we could just do this.\",\n",
       "    'sentiment_score': 0.5},\n",
       "   {'speaker': 'Chandler',\n",
       "    'line': 'Okay, umm, we all have to play strip poker.',\n",
       "    'sentiment_score': 0.5},\n",
       "   {'speaker': 'Joey', 'line': 'OH YES!!!!!', 'sentiment_score': 0.0},\n",
       "   {'speaker': 'Monica',\n",
       "    'line': 'Strip Happy Days Game?',\n",
       "    'sentiment_score': 0.2},\n",
       "   {'speaker': 'Joey',\n",
       "    'line': 'Yeah, well, I couldn’t find any cards, so it was either this or Strip Bag Of Old Knitting Stuff.',\n",
       "    'sentiment_score': 0.1},\n",
       "   {'speaker': 'Ross',\n",
       "    'line': 'Okay,  Fonzy gives you two thumbs up, collect two cool points. Yeah.',\n",
       "    'sentiment_score': 0.425},\n",
       "   {'speaker': 'Phoebe',\n",
       "    'line': 'Monica, if you get five cool points, you get to make somebody take off one item of clothing. It hasn’t happened yet, but we’re all very excited.',\n",
       "    'sentiment_score': 0.362},\n",
       "   {'speaker': 'Ross',\n",
       "    'line': 'Okay, come on!  Daddy needs a new pair of electromagnetic microscopes for the Prehistoric Forensics Department!   Okay.  Take Pinky Tuscadero up to Inspiration Point, collect three cool points!! Yeah! Which gives me five, and let’s see who is gonna lose their clothes. Ummmm, I think I pick our strip poker sponsor Mr. Joey Tribianni.',\n",
       "    'sentiment_score': 0.372},\n",
       "   {'speaker': 'Joey',\n",
       "    'line': 'All right, relax. It’s just a shoe.',\n",
       "    'sentiment_score': 0.286},\n",
       "   {'speaker': 'All', 'line': 'Wooooo!!!!', 'sentiment_score': 0.0},\n",
       "   {'speaker': 'Rachel',\n",
       "    'line': 'Okay, your band is playing at Arnold’s, collect three cool points. Which means, I have five, and that means I get Joey’s boxers!',\n",
       "    'sentiment_score': 0.425},\n",
       "   {'speaker': 'Joey',\n",
       "    'line': 'Fine. Gang up on me! I got you all right where I want you.',\n",
       "    'sentiment_score': 0.351},\n",
       "   {'speaker': 'Phoebe',\n",
       "    'line': 'Come on, take ‘em off!!',\n",
       "    'sentiment_score': 0.0},\n",
       "   {'speaker': 'Joey',\n",
       "    'line': \"Actually, y'know it’s kinda cold, so how about I keep my boxers on, and give you all a peek at the good stuff?\",\n",
       "    'sentiment_score': 0.033},\n",
       "   {'speaker': 'Rachel',\n",
       "    'line': 'All right, I’m gonna make more margaritas!',\n",
       "    'sentiment_score': 0.286},\n",
       "   {'speaker': 'Ross',\n",
       "    'line': 'Whoa, hey! What are doing? Trying to get me drunk?',\n",
       "    'sentiment_score': -0.5},\n",
       "   {'speaker': 'Rachel',\n",
       "    'line': 'I’m just making margaritas.',\n",
       "    'sentiment_score': 0.0},\n",
       "   {'speaker': 'Ross', 'line': 'Okay.', 'sentiment_score': 0.5},\n",
       "   {'speaker': 'Monica',\n",
       "    'line': 'I think I’ll help her out.   What is going on here?',\n",
       "    'sentiment_score': 0.0},\n",
       "   {'speaker': 'Rachel', 'line': 'What?!', 'sentiment_score': 0.0},\n",
       "   {'speaker': 'Monica',\n",
       "    'line': 'You painting his toenails?',\n",
       "    'sentiment_score': 0.0},\n",
       "   {'speaker': 'Rachel', 'line': 'Oh, come on!', 'sentiment_score': 0.0},\n",
       "   {'speaker': 'Monica',\n",
       "    'line': 'Chasing him all around the room?',\n",
       "    'sentiment_score': 0.0},\n",
       "   {'speaker': 'Rachel', 'line': 'Monica, please?', 'sentiment_score': 0.0},\n",
       "   {'speaker': 'Monica',\n",
       "    'line': 'He’s totally flirting with you too.',\n",
       "    'sentiment_score': 0.0},\n",
       "   {'speaker': 'Rachel',\n",
       "    'line': 'He is, isn’t he? I don’t know, I don’t know, I mean maybe it’s just being here at the beach together or, I don’t know. But it’s like something...',\n",
       "    'sentiment_score': -0.312},\n",
       "   {'speaker': 'Bonnie', 'line': 'Hey!', 'sentiment_score': 0.0},\n",
       "   {'speaker': 'Ross', 'line': 'Hey!  Hi Bonnie!', 'sentiment_score': 0.0},\n",
       "   {'speaker': 'Bonnie',\n",
       "    'line': 'Hi! My boss let me off early, so I took the train.',\n",
       "    'sentiment_score': 0.1},\n",
       "   {'speaker': 'Ross', 'line': 'Oh.', 'sentiment_score': 0.0},\n",
       "   {'speaker': 'Bonnie',\n",
       "    'line': 'What are you guys doing?!',\n",
       "    'sentiment_score': 0.0},\n",
       "   {'speaker': 'Joey',\n",
       "    'line': 'We’re playing Strip Happy Days Game!',\n",
       "    'sentiment_score': 0.2},\n",
       "   {'speaker': 'Bonnie',\n",
       "    'line': 'Cool! I’ll catch up!',\n",
       "    'sentiment_score': 0.35}]}]"
      ]
     },
     "execution_count": 92,
     "metadata": {},
     "output_type": "execute_result"
    }
   ],
   "source": [
    "scene_id = 'random'\n",
    "endpoint = f'http://localhost:5000/scene/{scene_id}'\n",
    "r = requests.get(endpoint)\n",
    "r.json()"
   ]
  },
  {
   "cell_type": "markdown",
   "metadata": {},
   "source": [
    "**Error Test**"
   ]
  },
  {
   "cell_type": "code",
   "execution_count": 93,
   "metadata": {},
   "outputs": [
    {
     "data": {
      "text/plain": [
       "'Error. The scene_id randomm does not exist. Please check API documentation for finding available scene ids.'"
      ]
     },
     "execution_count": 93,
     "metadata": {},
     "output_type": "execute_result"
    }
   ],
   "source": [
    "scene_id = 'randomm'\n",
    "endpoint = f'http://localhost:5000/scene/{scene_id}'\n",
    "r = requests.get(endpoint)\n",
    "r.json()"
   ]
  },
  {
   "cell_type": "markdown",
   "metadata": {},
   "source": [
    "### Random Scene, specific Season"
   ]
  },
  {
   "cell_type": "markdown",
   "metadata": {},
   "source": [
    "**Success Test**"
   ]
  },
  {
   "cell_type": "code",
   "execution_count": 98,
   "metadata": {},
   "outputs": [
    {
     "data": {
      "text/plain": [
       "[{'_id': '5fc284cbabbba8b12effa522',\n",
       "  'episode': {'season': '6',\n",
       "   'number': '24',\n",
       "   'name': 'The Proposal Part I  II'},\n",
       "  'attendees': ['Rachel', 'Phoebe', 'Joey', 'Ross'],\n",
       "  'script': [{'speaker': 'Rachel',\n",
       "    'line': 'Phoebe! You picked Joey and Ross?! You can not have two backups!',\n",
       "    'sentiment_score': 0.0},\n",
       "   {'speaker': 'Phoebe',\n",
       "    'line': 'Of course I can! It’s just good sense to backup your backup! Look, I’ve already lost Chandler!',\n",
       "    'sentiment_score': 0.7},\n",
       "   {'speaker': 'Rachel', 'line': 'What?!', 'sentiment_score': 0.0},\n",
       "   {'speaker': 'Joey', 'line': 'Hey!', 'sentiment_score': 0.0},\n",
       "   {'speaker': 'Ross', 'line': 'Hey!', 'sentiment_score': 0.0},\n",
       "   {'speaker': 'Joey',\n",
       "    'line': 'Phoebe! We’re both  your backup?!',\n",
       "    'sentiment_score': 0.0},\n",
       "   {'speaker': 'Ross',\n",
       "    'line': 'Phoebe, how could you do this to me?!',\n",
       "    'sentiment_score': 0.0},\n",
       "   {'speaker': 'Phoebe',\n",
       "    'line': 'I don’t—Look I don’t know what you’re complaining about now? You were both aware of the situation!',\n",
       "    'sentiment_score': 0.25},\n",
       "   {'speaker': 'Joey', 'line': 'No we weren’t!', 'sentiment_score': 0.0},\n",
       "   {'speaker': 'Ross', 'line': 'I was not!', 'sentiment_score': 0.0},\n",
       "   {'speaker': 'Phoebe',\n",
       "    'line': 'Okay, this kind of back talk is not gonna fly when we’re married!',\n",
       "    'sentiment_score': 0.43},\n",
       "   {'speaker': 'Rachel',\n",
       "    'line': 'Phoebe you can’t have both of them! You have to pick one!',\n",
       "    'sentiment_score': 0.0},\n",
       "   {'speaker': 'Joey', 'line': 'Pick me!!', 'sentiment_score': 0.0},\n",
       "   {'speaker': 'Ross',\n",
       "    'line': 'No! Pick me! I don’t want to end up an old maid!',\n",
       "    'sentiment_score': 0.1},\n",
       "   {'speaker': 'Phoebe',\n",
       "    'line': 'All right well let’s see, Ross is a good father, but Joey has a boat—This is hard!',\n",
       "    'sentiment_score': 0.231},\n",
       "   {'speaker': 'Joey',\n",
       "    'line': 'This is crazy! Hey look, I wanna switch to Rachel!',\n",
       "    'sentiment_score': -0.6},\n",
       "   {'speaker': 'Ross',\n",
       "    'line': 'Ooh, I wanna switch to Rachel too!',\n",
       "    'sentiment_score': 0.0},\n",
       "   {'speaker': 'Phoebe',\n",
       "    'line': 'No wait! Just—Okay—Just wait! You guys! Wait you guys! Don’t make any rash decisions, okay? Just remember my promise, when we get married, three times a week.',\n",
       "    'sentiment_score': 0.417},\n",
       "   {'speaker': 'Rachel', 'line': 'Oh God, Phoebe!', 'sentiment_score': 0.0},\n",
       "   {'speaker': 'Phoebe',\n",
       "    'line': 'I’m talking about massages.',\n",
       "    'sentiment_score': 0.0},\n",
       "   {'speaker': 'Rachel', 'line': 'Oh.', 'sentiment_score': 0.0},\n",
       "   {'speaker': 'Rachel',\n",
       "    'line': 'Okay, y’know what?! I know-I know how to settle this! All right here, this is what we’re gonna do! I’m gonna write Joey on one napkin  and I’m gonna right Ross on the other napkin  and we are going to pick one! And that person is going to be our backup! Okay?',\n",
       "    'sentiment_score': 0.393},\n",
       "   {'speaker': 'Joey', 'line': 'Okay that’s fair.', 'sentiment_score': 0.6},\n",
       "   {'speaker': 'Ross', 'line': 'All right.', 'sentiment_score': 0.286},\n",
       "   {'speaker': 'Phoebe', 'line': 'Good!', 'sentiment_score': 0.7},\n",
       "   {'speaker': 'Rachel', 'line': 'Pick one.', 'sentiment_score': 0.0},\n",
       "   {'speaker': 'Phoebe', 'line': 'Left!  Thank you.', 'sentiment_score': 0.0},\n",
       "   {'speaker': 'Rachel', 'line': 'You’re welcome.', 'sentiment_score': 0.8},\n",
       "   {'speaker': 'Phoebe', 'line': 'Ross!', 'sentiment_score': 0.0},\n",
       "   {'speaker': 'Rachel',\n",
       "    'line': 'Joey!  We should just switch.',\n",
       "    'sentiment_score': 0.0},\n",
       "   {'speaker': 'Phoebe', 'line': 'Yeah absolutely!', 'sentiment_score': 0.2},\n",
       "   {'speaker': 'Joey', 'line': 'Yeah.', 'sentiment_score': 0.0}]}]"
      ]
     },
     "execution_count": 98,
     "metadata": {},
     "output_type": "execute_result"
    }
   ],
   "source": [
    "scene_id = 'random'\n",
    "endpoint = f'http://localhost:5000/scene/{scene_id}'\n",
    "params = {'season': 6}\n",
    "r = requests.get(endpoint, params = params)\n",
    "r.json()"
   ]
  },
  {
   "cell_type": "markdown",
   "metadata": {},
   "source": [
    "**Error Test**"
   ]
  },
  {
   "cell_type": "code",
   "execution_count": 99,
   "metadata": {},
   "outputs": [
    {
     "data": {
      "text/plain": [
       "'Error. The season 0 entried does not exist. Please check API documentation for finding available seasons.'"
      ]
     },
     "execution_count": 99,
     "metadata": {},
     "output_type": "execute_result"
    }
   ],
   "source": [
    "scene_id = 'random'\n",
    "endpoint = f'http://localhost:5000/scene/{scene_id}'\n",
    "params = {'season': 0}\n",
    "r = requests.get(endpoint, params = params)\n",
    "r.json()"
   ]
  },
  {
   "cell_type": "markdown",
   "metadata": {},
   "source": [
    "### Random Scene, specific Season, specific Episode"
   ]
  },
  {
   "cell_type": "markdown",
   "metadata": {},
   "source": [
    "**Success Test**"
   ]
  },
  {
   "cell_type": "code",
   "execution_count": 102,
   "metadata": {},
   "outputs": [
    {
     "data": {
      "text/plain": [
       "[{'_id': '5fc2846babbba8b12eff9f7e',\n",
       "  'episode': {'season': '2',\n",
       "   'number': '15',\n",
       "   'name': 'Ross And Rachel... You Know'},\n",
       "  'attendees': ['Ross', 'Rachel'],\n",
       "  'script': [{'speaker': 'Ross',\n",
       "    'line': \"Oh look, I can't believe this. Look, homo-habilus hasn't even learned how to use tools yet and they've got him here wi, with clay pots. Why don't, why don't they just give him a microwave? I'm sorry, I'm sorry this is taking so long, ya know, I, I, it's just it's longer than I expected, we will have dinner.\",\n",
       "    'sentiment_score': -0.288},\n",
       "   {'speaker': 'Rachel',\n",
       "    'line': \"It's OK, it's fine.\",\n",
       "    'sentiment_score': 0.458},\n",
       "   {'speaker': 'Ross', 'line': 'KARL!', 'sentiment_score': 0.0}]}]"
      ]
     },
     "execution_count": 102,
     "metadata": {},
     "output_type": "execute_result"
    }
   ],
   "source": [
    "scene_id = 'random'\n",
    "endpoint = f'http://localhost:5000/scene/{scene_id}'\n",
    "params = {'season': 2, 'episode': 15}\n",
    "r = requests.get(endpoint, params = params)\n",
    "r.json()"
   ]
  },
  {
   "cell_type": "markdown",
   "metadata": {},
   "source": [
    "**Error Test**"
   ]
  },
  {
   "cell_type": "code",
   "execution_count": 105,
   "metadata": {},
   "outputs": [
    {
     "data": {
      "text/plain": [
       "'Error. You have specified an episode without a season.'"
      ]
     },
     "execution_count": 105,
     "metadata": {},
     "output_type": "execute_result"
    }
   ],
   "source": [
    "scene_id = 'random'\n",
    "endpoint = f'http://localhost:5000/scene/{scene_id}'\n",
    "params = {'episode': 15}\n",
    "r = requests.get(endpoint, params = params)\n",
    "r.json()"
   ]
  },
  {
   "cell_type": "markdown",
   "metadata": {},
   "source": [
    "### Random Scene, specific Season, Limit 3 scenes"
   ]
  },
  {
   "cell_type": "markdown",
   "metadata": {},
   "source": [
    "**Success Test**"
   ]
  },
  {
   "cell_type": "code",
   "execution_count": 106,
   "metadata": {},
   "outputs": [
    {
     "data": {
      "text/plain": [
       "[{'_id': '5fc28470abbba8b12eff9fcf',\n",
       "  'episode': {'season': '2', 'number': '21', 'name': 'The Bullies'},\n",
       "  'attendees': ['Joey', 'Phoebe', 'Rachel'],\n",
       "  'script': [{'speaker': 'Joey',\n",
       "    'line': \"See, didn't I tell ya these pillows would be a good idea?\",\n",
       "    'sentiment_score': 0.7},\n",
       "   {'speaker': 'Phoebe',\n",
       "    'line': \"Oh God, here we go. For the first time in my life I'm gonna say 'Hi birthfather'.\",\n",
       "    'sentiment_score': 0.25},\n",
       "   {'speaker': 'Rachel',\n",
       "    'line': \"We love you, we're here for you.\",\n",
       "    'sentiment_score': 0.5},\n",
       "   {'speaker': 'Joey',\n",
       "    'line': 'Yeah good luck, good luck.',\n",
       "    'sentiment_score': 0.7},\n",
       "   {'speaker': 'Phoebe',\n",
       "    'line': 'Thanks. [gets out of the cab]',\n",
       "    'sentiment_score': 0.2},\n",
       "   {'speaker': 'Joey',\n",
       "    'line': 'Hey Rach, you uh, you want some sandwich?',\n",
       "    'sentiment_score': 0.0},\n",
       "   {'speaker': 'Rachel',\n",
       "    'line': 'Ohh, what is in that?',\n",
       "    'sentiment_score': 0.0},\n",
       "   {'speaker': 'Joey',\n",
       "    'line': 'Olive loaf and ham spread, no mayo.',\n",
       "    'sentiment_score': 0.0},\n",
       "   {'speaker': 'Rachel',\n",
       "    'line': \"No no, 'cause mayo, that would make it gross.\",\n",
       "    'sentiment_score': 0.0},\n",
       "   {'speaker': 'Phoebe',\n",
       "    'line': '[a little dog starts attacking her leg] Hey, hey, no, oh oh.',\n",
       "    'sentiment_score': -0.188},\n",
       "   {'speaker': 'Rachel', 'line': 'Run Phoebe run.', 'sentiment_score': 0.0},\n",
       "   {'speaker': 'Phoebe',\n",
       "    'line': 'No no no, doggie please. Oh, I do so wanna love all animals, please no.',\n",
       "    'sentiment_score': 0.5},\n",
       "   {'speaker': 'Joey',\n",
       "    'line': 'Get him a bone, get a bone. You gotta bone?',\n",
       "    'sentiment_score': 0.0},\n",
       "   {'speaker': 'Rachel',\n",
       "    'line': 'Are you kidding me?',\n",
       "    'sentiment_score': 0.0},\n",
       "   {'speaker': 'Phoebe',\n",
       "    'line': 'Look kibbles, bits. Oh God, alright, get the hell off my leg you yippity piece of crap. [Flings the dog off and jumps in the cab. The dog keeps jumping up to the window.] Ok, alright, we have a problem.',\n",
       "    'sentiment_score': -0.15},\n",
       "   {'speaker': 'Joey',\n",
       "    'line': \"Well why don't you just reach out and take his trampoline.\",\n",
       "    'sentiment_score': 0.0},\n",
       "   {'speaker': 'Rachel',\n",
       "    'line': \"Ok, here, I know what we can do. [grabs Joey's sadwich and throws it out the window]\",\n",
       "    'sentiment_score': 0.5},\n",
       "   {'speaker': 'Joey', 'line': 'Hey, hey, hey no.', 'sentiment_score': 0.0},\n",
       "   {'speaker': 'Rachel',\n",
       "    'line': 'Ok, doggie get the- aahhh. Ok go get the sandwich, get the sandwich doggie. [dog ignores the sandwich] Good doggie get the sandwich, get the...ok, Joey, the dog will lick himself but he will not touch your sandwich, what does that say?',\n",
       "    'sentiment_score': 0.55},\n",
       "   {'speaker': 'Joey',\n",
       "    'line': \"Well if he's not gonna eat it, I will.\",\n",
       "    'sentiment_score': 0.0},\n",
       "   {'speaker': 'Phoebe', 'line': 'Are you crazy?', 'sentiment_score': -0.6},\n",
       "   {'speaker': 'Joey',\n",
       "    'line': \"Phoebs, he's just a little dog. [turns back to the car window and the dog is halfway through it.] Ahhh.\",\n",
       "    'sentiment_score': -0.094}]},\n",
       " {'_id': '5fc2846dabbba8b12eff9f9e',\n",
       "  'episode': {'season': '2', 'number': '17', 'name': 'Eddie Moves In'},\n",
       "  'attendees': ['Eddie', 'Joey', 'Chandler'],\n",
       "  'script': [{'speaker': 'Eddie',\n",
       "    'line': \"Hi Joey, what's goin' on man?\",\n",
       "    'sentiment_score': 0.0},\n",
       "   {'speaker': 'Joey', 'line': 'Eddie.', 'sentiment_score': 0.0},\n",
       "   {'speaker': 'Chandler', 'line': 'Morning.', 'sentiment_score': 0.0},\n",
       "   {'speaker': 'Joey',\n",
       "    'line': \"Morning. I just uh, came by to pick up my mail. [looks for the mail on the table by the door, it's not there] Where's the mail?\",\n",
       "    'sentiment_score': 0.0},\n",
       "   {'speaker': 'Chandler',\n",
       "    'line': \"Oh it's uh, over there on the table.\",\n",
       "    'sentiment_score': 0.0},\n",
       "   {'speaker': 'Joey',\n",
       "    'line': \"You don't keep it over here on this table any more?\",\n",
       "    'sentiment_score': 0.0},\n",
       "   {'speaker': 'Chandler',\n",
       "    'line': 'No, Eddie likes to keep it over there.',\n",
       "    'sentiment_score': 0.0},\n",
       "   {'speaker': 'Eddie',\n",
       "    'line': 'Alright, here you go my friend. Eggs a-la Eddie, huh?',\n",
       "    'sentiment_score': 0.0},\n",
       "   {'speaker': 'Chandler', 'line': 'Oh, ooh.', 'sentiment_score': 0.0},\n",
       "   {'speaker': 'Joey', 'line': 'Huh.', 'sentiment_score': 0.0},\n",
       "   {'speaker': 'Chandler', 'line': 'What?', 'sentiment_score': 0.0},\n",
       "   {'speaker': 'Joey',\n",
       "    'line': 'No I just uh, thought you liked your eggs with the bread with the hole in the middle, a-la me.',\n",
       "    'sentiment_score': 0.3},\n",
       "   {'speaker': 'Chandler',\n",
       "    'line': \"Well I do, but uh, Eddie makes them this way and, well they're pretty darn good.\",\n",
       "    'sentiment_score': 0.475},\n",
       "   {'speaker': 'Eddie',\n",
       "    'line': \"Well you guys, I'm outta here. See ya pals.\",\n",
       "    'sentiment_score': 0.0},\n",
       "   {'speaker': 'Chandler',\n",
       "    'line': 'See ya. [Eddie leaves]',\n",
       "    'sentiment_score': 0.0},\n",
       "   {'speaker': 'Joey',\n",
       "    'line': \"So how you two gettin' along?\",\n",
       "    'sentiment_score': 0.0},\n",
       "   {'speaker': 'Chandler',\n",
       "    'line': \"Oh, I couldn't be happier.\",\n",
       "    'sentiment_score': 0.0},\n",
       "   {'speaker': 'Joey',\n",
       "    'line': \"Great, well, I'm happy for ya. [picks up the orange juice carton and it's empty] Alright that's it. He just comes in here, Mr. Jonny Neweggs, with his, his, his movin' the mail and his, his 'see ya pals'. And now there's no juice. There's no juice f or the people who need the juice and want the juice. I need the juice.\",\n",
       "    'sentiment_score': 0.5},\n",
       "   {'speaker': 'Chandler',\n",
       "    'line': \"There's another carton right over there.\",\n",
       "    'sentiment_score': 0.286},\n",
       "   {'speaker': 'Joey',\n",
       "    'line': \"Hey, this isn't about juice anymore, alright man.\",\n",
       "    'sentiment_score': 0.0},\n",
       "   {'speaker': 'Chandler',\n",
       "    'line': \"Alright, so what's it about?\",\n",
       "    'sentiment_score': 0.0},\n",
       "   {'speaker': 'Joey',\n",
       "    'line': \"Eggs. Who's eggs do you like better, his or mine, huh?\",\n",
       "    'sentiment_score': 0.5},\n",
       "   {'speaker': 'Chandler',\n",
       "    'line': 'Well I like both eggs equally.',\n",
       "    'sentiment_score': 0.0},\n",
       "   {'speaker': 'Joey',\n",
       "    'line': 'Oh come on. Nobody likes two different kinds of eggs equally. You like one better than the other and I wanna know which.',\n",
       "    'sentiment_score': 0.167},\n",
       "   {'speaker': 'Chandler',\n",
       "    'line': \"Well what's the difference? Your eggs aren't here anymore, are they? You took your eggs and you left. You really expect me to never find new eggs?\",\n",
       "    'sentiment_score': 0.112}]},\n",
       " {'_id': '5fc28465abbba8b12eff9f30',\n",
       "  'episode': {'season': '2', 'number': '8', 'name': 'The List'},\n",
       "  'attendees': ['Monica', 'Phoebe', 'Rachel'],\n",
       "  'script': [{'speaker': 'Monica',\n",
       "    'line': 'How about Mockolate mousse?',\n",
       "    'sentiment_score': 0.0},\n",
       "   {'speaker': 'Phoebe',\n",
       "    'line': \"It's not, it's not very Thanksgiving-y.\",\n",
       "    'sentiment_score': 0.0},\n",
       "   {'speaker': 'Monica',\n",
       "    'line': 'Ok, how about pilgrim Mockolate mousse?',\n",
       "    'sentiment_score': 0.5},\n",
       "   {'speaker': 'Phoebe',\n",
       "    'line': 'What makes it pilgrim?',\n",
       "    'sentiment_score': 0.0},\n",
       "   {'speaker': 'Monica',\n",
       "    'line': \"We'll put buckles on it.\",\n",
       "    'sentiment_score': 0.0},\n",
       "   {'speaker': 'Rachel', 'line': 'Hey.', 'sentiment_score': 0.0},\n",
       "   {'speaker': 'Phoebe', 'line': 'Hey.', 'sentiment_score': 0.0},\n",
       "   {'speaker': 'Monica', 'line': 'Hey.', 'sentiment_score': 0.0},\n",
       "   {'speaker': 'Rachel', 'line': 'Did uh, Ross call?', 'sentiment_score': 0.0},\n",
       "   {'speaker': 'Monica', 'line': \"No, I'm sorry.\", 'sentiment_score': 0.25},\n",
       "   {'speaker': 'Rachel',\n",
       "    'line': \"Why didn't he call? He's gonna stay with Julie, isn't he? He's gonna stay with her and she's going to be all, Hi, I'm Julie, Ross picked me, and we're gonna to get married, have a lot of kids and dig up stuff together.\",\n",
       "    'sentiment_score': 0.25},\n",
       "   {'speaker': 'Phoebe',\n",
       "    'line': 'No offense, but that sounds nothing like her.',\n",
       "    'sentiment_score': 0.0}]}]"
      ]
     },
     "execution_count": 106,
     "metadata": {},
     "output_type": "execute_result"
    }
   ],
   "source": [
    "scene_id = 'random'\n",
    "endpoint = f'http://localhost:5000/scene/{scene_id}'\n",
    "params = {'season': 2, 'limit':3}\n",
    "r = requests.get(endpoint, params = params)\n",
    "r.json()"
   ]
  },
  {
   "cell_type": "markdown",
   "metadata": {},
   "source": [
    "**Error Test**"
   ]
  },
  {
   "cell_type": "code",
   "execution_count": 111,
   "metadata": {
    "scrolled": false
   },
   "outputs": [
    {
     "data": {
      "text/plain": [
       "'Error. Wrong limit value. Please provide positive integer'"
      ]
     },
     "execution_count": 111,
     "metadata": {},
     "output_type": "execute_result"
    }
   ],
   "source": [
    "scene_id = 'random'\n",
    "endpoint = f'http://localhost:5000/scene/{scene_id}'\n",
    "params = {'season': 2, 'limit':-2}\n",
    "r = requests.get(endpoint, params = params)\n",
    "r.json()"
   ]
  },
  {
   "cell_type": "markdown",
   "metadata": {},
   "source": [
    "### Sentiment Character"
   ]
  },
  {
   "cell_type": "markdown",
   "metadata": {},
   "source": [
    "**Success Test**"
   ]
  },
  {
   "cell_type": "code",
   "execution_count": 112,
   "metadata": {},
   "outputs": [
    {
     "data": {
      "text/plain": [
       "[{'character': 'Ross', 'sentiment_score': 0.09}]"
      ]
     },
     "execution_count": 112,
     "metadata": {},
     "output_type": "execute_result"
    }
   ],
   "source": [
    "character = 'Ross'\n",
    "endpoint = f'http://localhost:5000/sentiment/character/{character}'\n",
    "r = requests.get(endpoint)\n",
    "r.json()"
   ]
  },
  {
   "cell_type": "markdown",
   "metadata": {},
   "source": [
    "**Error Test**"
   ]
  },
  {
   "cell_type": "code",
   "execution_count": 113,
   "metadata": {},
   "outputs": [
    {
     "data": {
      "text/plain": [
       "'Error. The character Idk do not exist. Please check API documentation for finding available characters.'"
      ]
     },
     "execution_count": 113,
     "metadata": {},
     "output_type": "execute_result"
    }
   ],
   "source": [
    "character = 'Idk'\n",
    "endpoint = f'http://localhost:5000/sentiment/character/{character}'\n",
    "r = requests.get(endpoint)\n",
    "r.json()"
   ]
  },
  {
   "cell_type": "markdown",
   "metadata": {},
   "source": [
    "### Sentiment Character, specific Season"
   ]
  },
  {
   "cell_type": "markdown",
   "metadata": {},
   "source": [
    "**Success Test**"
   ]
  },
  {
   "cell_type": "code",
   "execution_count": 114,
   "metadata": {},
   "outputs": [
    {
     "data": {
      "text/plain": [
       "[{'character': 'Ross', 'sentiment_score': 0.07}]"
      ]
     },
     "execution_count": 114,
     "metadata": {},
     "output_type": "execute_result"
    }
   ],
   "source": [
    "character = 'Ross'\n",
    "endpoint = f'http://localhost:5000/sentiment/character/{character}'\n",
    "params = {'season': 2}\n",
    "r = requests.get(endpoint, params = params)\n",
    "r.json()"
   ]
  },
  {
   "cell_type": "markdown",
   "metadata": {},
   "source": [
    "**Error Test**"
   ]
  },
  {
   "cell_type": "code",
   "execution_count": 115,
   "metadata": {},
   "outputs": [
    {
     "data": {
      "text/plain": [
       "'Error. The character Ross or season 15 entried do not exist. Please check API documentation for finding available characters and seasons.'"
      ]
     },
     "execution_count": 115,
     "metadata": {},
     "output_type": "execute_result"
    }
   ],
   "source": [
    "character = 'Ross'\n",
    "endpoint = f'http://localhost:5000/sentiment/character/{character}'\n",
    "params = {'season': 15}\n",
    "r = requests.get(endpoint, params = params)\n",
    "r.json()"
   ]
  },
  {
   "cell_type": "markdown",
   "metadata": {},
   "source": [
    "### Sentiment Character, specific Season, specific Episode"
   ]
  },
  {
   "cell_type": "markdown",
   "metadata": {},
   "source": [
    "**Success Test**"
   ]
  },
  {
   "cell_type": "code",
   "execution_count": 117,
   "metadata": {},
   "outputs": [
    {
     "data": {
      "text/plain": [
       "[{'character': 'Ross', 'sentiment_score': 0.06}]"
      ]
     },
     "execution_count": 117,
     "metadata": {},
     "output_type": "execute_result"
    }
   ],
   "source": [
    "character = 'Ross'\n",
    "endpoint = f'http://localhost:5000/sentiment/character/{character}'\n",
    "params = {'season': 3, 'episode': 15}\n",
    "r = requests.get(endpoint, params = params)\n",
    "r.json()"
   ]
  },
  {
   "cell_type": "markdown",
   "metadata": {},
   "source": [
    "**Error Test**"
   ]
  },
  {
   "cell_type": "code",
   "execution_count": 118,
   "metadata": {
    "scrolled": true
   },
   "outputs": [
    {
     "data": {
      "text/plain": [
       "'Error. The character Ross or season -1  or episode number 15 entried do not exist. Please check API documentation for finding available characters, seasons and episodes.'"
      ]
     },
     "execution_count": 118,
     "metadata": {},
     "output_type": "execute_result"
    }
   ],
   "source": [
    "character = 'Ross'\n",
    "endpoint = f'http://localhost:5000/sentiment/character/{character}'\n",
    "params = {'episode': 15}\n",
    "r = requests.get(endpoint, params = params)\n",
    "r.json()"
   ]
  },
  {
   "cell_type": "markdown",
   "metadata": {},
   "source": [
    "### Sentiment Episode"
   ]
  },
  {
   "cell_type": "markdown",
   "metadata": {},
   "source": [
    "**Success Test**"
   ]
  },
  {
   "cell_type": "code",
   "execution_count": 123,
   "metadata": {},
   "outputs": [
    {
     "data": {
      "text/plain": [
       "[{'season': '4', 'episode': '9', 'sentiment_score': 0.082}]"
      ]
     },
     "execution_count": 123,
     "metadata": {},
     "output_type": "execute_result"
    }
   ],
   "source": [
    "endpoint = f'http://localhost:5000/sentiment/episode/'\n",
    "params = {'season': 4, 'episode': 9}\n",
    "r = requests.get(endpoint, params = params)\n",
    "r.json()"
   ]
  },
  {
   "cell_type": "markdown",
   "metadata": {},
   "source": [
    "**Error Test**"
   ]
  },
  {
   "cell_type": "code",
   "execution_count": 126,
   "metadata": {},
   "outputs": [
    {
     "data": {
      "text/plain": [
       "'Error. Missing a required parameter. Please check API documentation.'"
      ]
     },
     "execution_count": 126,
     "metadata": {},
     "output_type": "execute_result"
    }
   ],
   "source": [
    "endpoint = f'http://localhost:5000/sentiment/episode/'\n",
    "params = {'season': 4}\n",
    "r = requests.get(endpoint, params = params)\n",
    "r.json()"
   ]
  },
  {
   "cell_type": "code",
   "execution_count": null,
   "metadata": {},
   "outputs": [],
   "source": []
  }
 ],
 "metadata": {
  "kernelspec": {
   "display_name": "Python 3",
   "language": "python",
   "name": "python3"
  },
  "language_info": {
   "codemirror_mode": {
    "name": "ipython",
    "version": 3
   },
   "file_extension": ".py",
   "mimetype": "text/x-python",
   "name": "python",
   "nbconvert_exporter": "python",
   "pygments_lexer": "ipython3",
   "version": "3.8.3"
  }
 },
 "nbformat": 4,
 "nbformat_minor": 4
}
